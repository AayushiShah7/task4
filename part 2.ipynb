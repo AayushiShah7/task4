{
 "cells": [
  {
   "cell_type": "code",
   "execution_count": 1,
   "id": "e407aa5c",
   "metadata": {},
   "outputs": [],
   "source": [
    "import cv2\n",
    "import numpy as np"
   ]
  },
  {
   "cell_type": "code",
   "execution_count": 2,
   "id": "87fe5517",
   "metadata": {},
   "outputs": [],
   "source": [
    "photo1=np.zeros((700,700,3))"
   ]
  },
  {
   "cell_type": "code",
   "execution_count": 3,
   "id": "2103dfed",
   "metadata": {},
   "outputs": [],
   "source": [
    "cv2.imshow('photo1',photo1)\n",
    "cv2.waitKey()\n",
    "cv2.destroyAllWindows()"
   ]
  },
  {
   "cell_type": "code",
   "execution_count": 4,
   "id": "21fc9b0c",
   "metadata": {},
   "outputs": [],
   "source": [
    "photo1[0:1001,0:1001]=(0,0,255)"
   ]
  },
  {
   "cell_type": "code",
   "execution_count": 5,
   "id": "05103c97",
   "metadata": {},
   "outputs": [],
   "source": [
    "cv2.imshow('photo1',photo1)\n",
    "cv2.waitKey()\n",
    "cv2.destroyAllWindows()"
   ]
  },
  {
   "cell_type": "code",
   "execution_count": 6,
   "id": "ed97f1b8",
   "metadata": {},
   "outputs": [],
   "source": [
    "cphoto1=photo1[200:400,300:500]"
   ]
  },
  {
   "cell_type": "code",
   "execution_count": 7,
   "id": "c4a98bb3",
   "metadata": {},
   "outputs": [
    {
     "data": {
      "text/plain": [
       "(200, 200, 3)"
      ]
     },
     "execution_count": 7,
     "metadata": {},
     "output_type": "execute_result"
    }
   ],
   "source": [
    "cphoto1.shape"
   ]
  },
  {
   "cell_type": "code",
   "execution_count": 8,
   "id": "e5b422d6",
   "metadata": {},
   "outputs": [],
   "source": [
    "cv2.imshow('cphoto1',cphoto1)\n",
    "cv2.waitKey()\n",
    "cv2.destroyAllWindows()"
   ]
  },
  {
   "cell_type": "code",
   "execution_count": 9,
   "id": "d421eeea",
   "metadata": {},
   "outputs": [],
   "source": [
    "photo2=np.zeros((700,700,3))"
   ]
  },
  {
   "cell_type": "code",
   "execution_count": 10,
   "id": "93768e45",
   "metadata": {},
   "outputs": [],
   "source": [
    "cv2.imshow('photo2',photo2)\n",
    "cv2.waitKey()\n",
    "cv2.destroyAllWindows()"
   ]
  },
  {
   "cell_type": "code",
   "execution_count": 11,
   "id": "db206e73",
   "metadata": {},
   "outputs": [],
   "source": [
    "photo2[0:1001,0:1001]=(255,0,255)"
   ]
  },
  {
   "cell_type": "code",
   "execution_count": 12,
   "id": "f6e9d38b",
   "metadata": {},
   "outputs": [],
   "source": [
    "cv2.imshow('photo2',photo2)\n",
    "cv2.waitKey()\n",
    "cv2.destroyAllWindows()"
   ]
  },
  {
   "cell_type": "code",
   "execution_count": 15,
   "id": "16044f6b",
   "metadata": {},
   "outputs": [],
   "source": [
    "cphoto2=photo2[200:400,300:500]"
   ]
  },
  {
   "cell_type": "code",
   "execution_count": 16,
   "id": "d8f395d9",
   "metadata": {},
   "outputs": [],
   "source": [
    "cv2.imshow('cphoto2',cphoto2)\n",
    "cv2.waitKey()\n",
    "cv2.destroyAllWindows()"
   ]
  },
  {
   "cell_type": "code",
   "execution_count": 17,
   "id": "f28138d4",
   "metadata": {},
   "outputs": [],
   "source": [
    "photo1[200:400,300:500]= cphoto2"
   ]
  },
  {
   "cell_type": "code",
   "execution_count": 18,
   "id": "b987e163",
   "metadata": {},
   "outputs": [],
   "source": [
    "photo2[200:400,300:500]= cphoto1"
   ]
  },
  {
   "cell_type": "code",
   "execution_count": null,
   "id": "103ea17b",
   "metadata": {},
   "outputs": [],
   "source": []
  },
  {
   "cell_type": "code",
   "execution_count": null,
   "id": "6d2775ea",
   "metadata": {},
   "outputs": [],
   "source": []
  },
  {
   "cell_type": "code",
   "execution_count": 19,
   "id": "2946257b",
   "metadata": {},
   "outputs": [],
   "source": [
    "cv2.imshow('photo1',photo1)\n",
    "cv2.waitKey()\n",
    "cv2.destroyAllWindows()"
   ]
  },
  {
   "cell_type": "code",
   "execution_count": null,
   "id": "96c60223",
   "metadata": {},
   "outputs": [],
   "source": [
    "cv2.imshow('photo2',photo2)\n",
    "cv2.waitKey()\n",
    "cv2.destroyAllWindows()"
   ]
  },
  {
   "cell_type": "code",
   "execution_count": null,
   "id": "929503b4",
   "metadata": {},
   "outputs": [],
   "source": []
  }
 ],
 "metadata": {
  "kernelspec": {
   "display_name": "Python 3",
   "language": "python",
   "name": "python3"
  },
  "language_info": {
   "codemirror_mode": {
    "name": "ipython",
    "version": 3
   },
   "file_extension": ".py",
   "mimetype": "text/x-python",
   "name": "python",
   "nbconvert_exporter": "python",
   "pygments_lexer": "ipython3",
   "version": "3.6.8"
  }
 },
 "nbformat": 4,
 "nbformat_minor": 5
}
